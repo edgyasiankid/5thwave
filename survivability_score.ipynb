{
  "cells": [
    {
      "cell_type": "code",
      "execution_count": 4,
      "metadata": {
        "colab": {
          "base_uri": "https://localhost:8080/",
          "height": 617
        },
        "id": "9Y7F54l_3Fwv",
        "outputId": "827efb49-7f38-4c8c-91d8-65baf37d3c40"
      },
      "outputs": [
        {
          "data": {
            "text/html": [
              "<html>\n",
              "<head><meta charset=\"utf-8\" /></head>\n",
              "<body>\n",
              "    <div>            <script src=\"https://cdnjs.cloudflare.com/ajax/libs/mathjax/2.7.5/MathJax.js?config=TeX-AMS-MML_SVG\"></script><script type=\"text/javascript\">if (window.MathJax && window.MathJax.Hub && window.MathJax.Hub.Config) {window.MathJax.Hub.Config({SVG: {font: \"STIX-Web\"}});}</script>                <script type=\"text/javascript\">window.PlotlyConfig = {MathJaxConfig: 'local'};</script>\n",
              "        <script charset=\"utf-8\" src=\"https://cdn.plot.ly/plotly-2.35.2.min.js\"></script>                <div id=\"0278c6b3-b06c-432d-9154-5b3687fe87a5\" class=\"plotly-graph-div\" style=\"height:600px; width:100%;\"></div>            <script type=\"text/javascript\">                                    window.PLOTLYENV=window.PLOTLYENV || {};                                    if (document.getElementById(\"0278c6b3-b06c-432d-9154-5b3687fe87a5\")) {                    Plotly.newPlot(                        \"0278c6b3-b06c-432d-9154-5b3687fe87a5\",                        [{\"customdata\":[-0.686,-0.381,-0.49,-0.955,0.109,-0.112,0.194,-0.509,-0.341,-0.693,-0.687,0.089,-0.27,0.174,0.204,-0.526,0.138,0.381,0.16,0.48,0.213,-0.736,0.556,1.242,0.875,1.569],\"hovertemplate\":\"Education: %{y}\\u003cbr\\u003eSurvival Score: %{customdata}\",\"marker\":{\"color\":\"#4c78a8\"},\"name\":\"Education Contribution\",\"x\":[\"Dominican-Republic (Score: -0.69)\",\"Columbia (Score: -0.38)\",\"Guatemala (Score: -0.49)\",\"Mexico (Score: -0.95)\",\"Nicaragua (Score: 0.11)\",\"Peru (Score: -0.11)\",\"Vietnam (Score: 0.19)\",\"El-Salvador (Score: -0.51)\",\"Haiti (Score: -0.34)\",\"Puerto-Rico (Score: -0.69)\",\"Portugal (Score: -0.69)\",\"Jamaica (Score: 0.09)\",\"Poland (Score: -0.27)\",\"South (Score: 0.17)\",\"United-States (Score: 0.2)\",\"Cuba (Score: -0.53)\",\"China (Score: 0.14)\",\"Philippines (Score: 0.38)\",\"Canada (Score: 0.16)\",\"Germany (Score: 0.48)\",\"England (Score: 0.21)\",\"Italy (Score: -0.74)\",\"Japan (Score: 0.56)\",\"India (Score: 1.24)\",\"Iran (Score: 0.87)\",\"Taiwan (Score: 1.57)\"],\"y\":[-0.5497021898268962,-0.0912708504120308,-0.7885118383671462,-1.1948920351812775,-0.156784703376833,-0.1390584822740279,-0.0517515534270085,-0.6540802668614542,-0.1719712882659056,-0.4051114673462815,-0.5148349701451708,-0.0009893133348152,0.0483831819570788,0.2659533146648463,0.1813359665005582,0.0128864297865379,0.3667505981095532,0.3604902055906969,0.256284552149128,0.4110288638972084,0.2650292604448307,-0.2554496598172734,0.3216616236516966,0.9248978259971674,0.6369033786762137,0.922803417210604],\"type\":\"bar\"},{\"customdata\":[-0.686,-0.381,-0.49,-0.955,0.109,-0.112,0.194,-0.509,-0.341,-0.693,-0.687,0.089,-0.27,0.174,0.204,-0.526,0.138,0.381,0.16,0.48,0.213,-0.736,0.556,1.242,0.875,1.569],\"hovertemplate\":\"Income: %{y}\\u003cbr\\u003eSurvival Score: %{customdata}\",\"marker\":{\"color\":\"#f58518\"},\"name\":\"Income Contribution\",\"x\":[\"Dominican-Republic (Score: -0.69)\",\"Columbia (Score: -0.38)\",\"Guatemala (Score: -0.49)\",\"Mexico (Score: -0.95)\",\"Nicaragua (Score: 0.11)\",\"Peru (Score: -0.11)\",\"Vietnam (Score: 0.19)\",\"El-Salvador (Score: -0.51)\",\"Haiti (Score: -0.34)\",\"Puerto-Rico (Score: -0.69)\",\"Portugal (Score: -0.69)\",\"Jamaica (Score: 0.09)\",\"Poland (Score: -0.27)\",\"South (Score: 0.17)\",\"United-States (Score: 0.2)\",\"Cuba (Score: -0.53)\",\"China (Score: 0.14)\",\"Philippines (Score: 0.38)\",\"Canada (Score: 0.16)\",\"Germany (Score: 0.48)\",\"England (Score: 0.21)\",\"Italy (Score: -0.74)\",\"Japan (Score: 0.56)\",\"India (Score: 1.24)\",\"Iran (Score: 0.87)\",\"Taiwan (Score: 1.57)\"],\"y\":[-0.5591757678181593,-0.5466639293673613,-0.5207871725713931,-0.5064297048863806,-0.4918099748689953,-0.478011309296425,-0.4514274394645239,-0.4231704589439019,-0.4104704725464755,-0.3736440827492521,-0.3544365931687396,-0.3354250983798649,-0.1326358206318683,-0.130301075657796,0.060248334536575,0.1242558203959109,0.2111553768002821,0.3151244889269405,0.3915637516454132,0.4250346931751224,0.4487990616612155,0.46824263587711,0.6547569218740247,0.7102071150082424,0.876557694410896,1.0284430060394056],\"type\":\"bar\"},{\"customdata\":[-0.686,-0.381,-0.49,-0.955,0.109,-0.112,0.194,-0.509,-0.341,-0.693,-0.687,0.089,-0.27,0.174,0.204,-0.526,0.138,0.381,0.16,0.48,0.213,-0.736,0.556,1.242,0.875,1.569],\"hovertemplate\":\"Age: %{y}\\u003cbr\\u003eSurvival Score: %{customdata}\",\"marker\":{\"color\":\"#54a24b\"},\"name\":\"Age Contribution\",\"x\":[\"Dominican-Republic (Score: -0.69)\",\"Columbia (Score: -0.38)\",\"Guatemala (Score: -0.49)\",\"Mexico (Score: -0.95)\",\"Nicaragua (Score: 0.11)\",\"Peru (Score: -0.11)\",\"Vietnam (Score: 0.19)\",\"El-Salvador (Score: -0.51)\",\"Haiti (Score: -0.34)\",\"Puerto-Rico (Score: -0.69)\",\"Portugal (Score: -0.69)\",\"Jamaica (Score: 0.09)\",\"Poland (Score: -0.27)\",\"South (Score: 0.17)\",\"United-States (Score: 0.2)\",\"Cuba (Score: -0.53)\",\"China (Score: 0.14)\",\"Philippines (Score: 0.38)\",\"Canada (Score: 0.16)\",\"Germany (Score: 0.48)\",\"England (Score: 0.21)\",\"Italy (Score: -0.74)\",\"Japan (Score: 0.56)\",\"India (Score: 1.24)\",\"Iran (Score: 0.87)\",\"Taiwan (Score: 1.57)\"],\"y\":[0.1464234668344621,-0.1188357740718553,0.8449143334240778,0.7378799661643765,0.771631077418033,0.3643367948595069,0.7110218091801599,0.5238814703461996,-0.0086850170134518,-0.2311900021619788,-0.0511668658214699,0.3736126480854782,-0.4418342346190416,-0.0657492448573267,-0.0026563483825814,-0.9805610984146408,-0.5217800074332137,-0.1767217502255649,-0.4214233326189731,-0.1683725572038481,-0.3854972938259289,-1.113115650588834,-0.0456873612986488,0.0549870897733866,-0.1875764720857429,0.3921643545374174],\"type\":\"bar\"}],                        {\"template\":{\"data\":{\"histogram2dcontour\":[{\"type\":\"histogram2dcontour\",\"colorbar\":{\"outlinewidth\":0,\"ticks\":\"\"},\"colorscale\":[[0.0,\"#0d0887\"],[0.1111111111111111,\"#46039f\"],[0.2222222222222222,\"#7201a8\"],[0.3333333333333333,\"#9c179e\"],[0.4444444444444444,\"#bd3786\"],[0.5555555555555556,\"#d8576b\"],[0.6666666666666666,\"#ed7953\"],[0.7777777777777778,\"#fb9f3a\"],[0.8888888888888888,\"#fdca26\"],[1.0,\"#f0f921\"]]}],\"choropleth\":[{\"type\":\"choropleth\",\"colorbar\":{\"outlinewidth\":0,\"ticks\":\"\"}}],\"histogram2d\":[{\"type\":\"histogram2d\",\"colorbar\":{\"outlinewidth\":0,\"ticks\":\"\"},\"colorscale\":[[0.0,\"#0d0887\"],[0.1111111111111111,\"#46039f\"],[0.2222222222222222,\"#7201a8\"],[0.3333333333333333,\"#9c179e\"],[0.4444444444444444,\"#bd3786\"],[0.5555555555555556,\"#d8576b\"],[0.6666666666666666,\"#ed7953\"],[0.7777777777777778,\"#fb9f3a\"],[0.8888888888888888,\"#fdca26\"],[1.0,\"#f0f921\"]]}],\"heatmap\":[{\"type\":\"heatmap\",\"colorbar\":{\"outlinewidth\":0,\"ticks\":\"\"},\"colorscale\":[[0.0,\"#0d0887\"],[0.1111111111111111,\"#46039f\"],[0.2222222222222222,\"#7201a8\"],[0.3333333333333333,\"#9c179e\"],[0.4444444444444444,\"#bd3786\"],[0.5555555555555556,\"#d8576b\"],[0.6666666666666666,\"#ed7953\"],[0.7777777777777778,\"#fb9f3a\"],[0.8888888888888888,\"#fdca26\"],[1.0,\"#f0f921\"]]}],\"heatmapgl\":[{\"type\":\"heatmapgl\",\"colorbar\":{\"outlinewidth\":0,\"ticks\":\"\"},\"colorscale\":[[0.0,\"#0d0887\"],[0.1111111111111111,\"#46039f\"],[0.2222222222222222,\"#7201a8\"],[0.3333333333333333,\"#9c179e\"],[0.4444444444444444,\"#bd3786\"],[0.5555555555555556,\"#d8576b\"],[0.6666666666666666,\"#ed7953\"],[0.7777777777777778,\"#fb9f3a\"],[0.8888888888888888,\"#fdca26\"],[1.0,\"#f0f921\"]]}],\"contourcarpet\":[{\"type\":\"contourcarpet\",\"colorbar\":{\"outlinewidth\":0,\"ticks\":\"\"}}],\"contour\":[{\"type\":\"contour\",\"colorbar\":{\"outlinewidth\":0,\"ticks\":\"\"},\"colorscale\":[[0.0,\"#0d0887\"],[0.1111111111111111,\"#46039f\"],[0.2222222222222222,\"#7201a8\"],[0.3333333333333333,\"#9c179e\"],[0.4444444444444444,\"#bd3786\"],[0.5555555555555556,\"#d8576b\"],[0.6666666666666666,\"#ed7953\"],[0.7777777777777778,\"#fb9f3a\"],[0.8888888888888888,\"#fdca26\"],[1.0,\"#f0f921\"]]}],\"surface\":[{\"type\":\"surface\",\"colorbar\":{\"outlinewidth\":0,\"ticks\":\"\"},\"colorscale\":[[0.0,\"#0d0887\"],[0.1111111111111111,\"#46039f\"],[0.2222222222222222,\"#7201a8\"],[0.3333333333333333,\"#9c179e\"],[0.4444444444444444,\"#bd3786\"],[0.5555555555555556,\"#d8576b\"],[0.6666666666666666,\"#ed7953\"],[0.7777777777777778,\"#fb9f3a\"],[0.8888888888888888,\"#fdca26\"],[1.0,\"#f0f921\"]]}],\"mesh3d\":[{\"type\":\"mesh3d\",\"colorbar\":{\"outlinewidth\":0,\"ticks\":\"\"}}],\"scatter\":[{\"fillpattern\":{\"fillmode\":\"overlay\",\"size\":10,\"solidity\":0.2},\"type\":\"scatter\"}],\"parcoords\":[{\"type\":\"parcoords\",\"line\":{\"colorbar\":{\"outlinewidth\":0,\"ticks\":\"\"}}}],\"scatterpolargl\":[{\"type\":\"scatterpolargl\",\"marker\":{\"colorbar\":{\"outlinewidth\":0,\"ticks\":\"\"}}}],\"bar\":[{\"error_x\":{\"color\":\"#2a3f5f\"},\"error_y\":{\"color\":\"#2a3f5f\"},\"marker\":{\"line\":{\"color\":\"#E5ECF6\",\"width\":0.5},\"pattern\":{\"fillmode\":\"overlay\",\"size\":10,\"solidity\":0.2}},\"type\":\"bar\"}],\"scattergeo\":[{\"type\":\"scattergeo\",\"marker\":{\"colorbar\":{\"outlinewidth\":0,\"ticks\":\"\"}}}],\"scatterpolar\":[{\"type\":\"scatterpolar\",\"marker\":{\"colorbar\":{\"outlinewidth\":0,\"ticks\":\"\"}}}],\"histogram\":[{\"marker\":{\"pattern\":{\"fillmode\":\"overlay\",\"size\":10,\"solidity\":0.2}},\"type\":\"histogram\"}],\"scattergl\":[{\"type\":\"scattergl\",\"marker\":{\"colorbar\":{\"outlinewidth\":0,\"ticks\":\"\"}}}],\"scatter3d\":[{\"type\":\"scatter3d\",\"line\":{\"colorbar\":{\"outlinewidth\":0,\"ticks\":\"\"}},\"marker\":{\"colorbar\":{\"outlinewidth\":0,\"ticks\":\"\"}}}],\"scattermapbox\":[{\"type\":\"scattermapbox\",\"marker\":{\"colorbar\":{\"outlinewidth\":0,\"ticks\":\"\"}}}],\"scatterternary\":[{\"type\":\"scatterternary\",\"marker\":{\"colorbar\":{\"outlinewidth\":0,\"ticks\":\"\"}}}],\"scattercarpet\":[{\"type\":\"scattercarpet\",\"marker\":{\"colorbar\":{\"outlinewidth\":0,\"ticks\":\"\"}}}],\"carpet\":[{\"aaxis\":{\"endlinecolor\":\"#2a3f5f\",\"gridcolor\":\"white\",\"linecolor\":\"white\",\"minorgridcolor\":\"white\",\"startlinecolor\":\"#2a3f5f\"},\"baxis\":{\"endlinecolor\":\"#2a3f5f\",\"gridcolor\":\"white\",\"linecolor\":\"white\",\"minorgridcolor\":\"white\",\"startlinecolor\":\"#2a3f5f\"},\"type\":\"carpet\"}],\"table\":[{\"cells\":{\"fill\":{\"color\":\"#EBF0F8\"},\"line\":{\"color\":\"white\"}},\"header\":{\"fill\":{\"color\":\"#C8D4E3\"},\"line\":{\"color\":\"white\"}},\"type\":\"table\"}],\"barpolar\":[{\"marker\":{\"line\":{\"color\":\"#E5ECF6\",\"width\":0.5},\"pattern\":{\"fillmode\":\"overlay\",\"size\":10,\"solidity\":0.2}},\"type\":\"barpolar\"}],\"pie\":[{\"automargin\":true,\"type\":\"pie\"}]},\"layout\":{\"autotypenumbers\":\"strict\",\"colorway\":[\"#636efa\",\"#EF553B\",\"#00cc96\",\"#ab63fa\",\"#FFA15A\",\"#19d3f3\",\"#FF6692\",\"#B6E880\",\"#FF97FF\",\"#FECB52\"],\"font\":{\"color\":\"#2a3f5f\"},\"hovermode\":\"closest\",\"hoverlabel\":{\"align\":\"left\"},\"paper_bgcolor\":\"white\",\"plot_bgcolor\":\"#E5ECF6\",\"polar\":{\"bgcolor\":\"#E5ECF6\",\"angularaxis\":{\"gridcolor\":\"white\",\"linecolor\":\"white\",\"ticks\":\"\"},\"radialaxis\":{\"gridcolor\":\"white\",\"linecolor\":\"white\",\"ticks\":\"\"}},\"ternary\":{\"bgcolor\":\"#E5ECF6\",\"aaxis\":{\"gridcolor\":\"white\",\"linecolor\":\"white\",\"ticks\":\"\"},\"baxis\":{\"gridcolor\":\"white\",\"linecolor\":\"white\",\"ticks\":\"\"},\"caxis\":{\"gridcolor\":\"white\",\"linecolor\":\"white\",\"ticks\":\"\"}},\"coloraxis\":{\"colorbar\":{\"outlinewidth\":0,\"ticks\":\"\"}},\"colorscale\":{\"sequential\":[[0.0,\"#0d0887\"],[0.1111111111111111,\"#46039f\"],[0.2222222222222222,\"#7201a8\"],[0.3333333333333333,\"#9c179e\"],[0.4444444444444444,\"#bd3786\"],[0.5555555555555556,\"#d8576b\"],[0.6666666666666666,\"#ed7953\"],[0.7777777777777778,\"#fb9f3a\"],[0.8888888888888888,\"#fdca26\"],[1.0,\"#f0f921\"]],\"sequentialminus\":[[0.0,\"#0d0887\"],[0.1111111111111111,\"#46039f\"],[0.2222222222222222,\"#7201a8\"],[0.3333333333333333,\"#9c179e\"],[0.4444444444444444,\"#bd3786\"],[0.5555555555555556,\"#d8576b\"],[0.6666666666666666,\"#ed7953\"],[0.7777777777777778,\"#fb9f3a\"],[0.8888888888888888,\"#fdca26\"],[1.0,\"#f0f921\"]],\"diverging\":[[0,\"#8e0152\"],[0.1,\"#c51b7d\"],[0.2,\"#de77ae\"],[0.3,\"#f1b6da\"],[0.4,\"#fde0ef\"],[0.5,\"#f7f7f7\"],[0.6,\"#e6f5d0\"],[0.7,\"#b8e186\"],[0.8,\"#7fbc41\"],[0.9,\"#4d9221\"],[1,\"#276419\"]]},\"xaxis\":{\"gridcolor\":\"white\",\"linecolor\":\"white\",\"ticks\":\"\",\"title\":{\"standoff\":15},\"zerolinecolor\":\"white\",\"automargin\":true,\"zerolinewidth\":2},\"yaxis\":{\"gridcolor\":\"white\",\"linecolor\":\"white\",\"ticks\":\"\",\"title\":{\"standoff\":15},\"zerolinecolor\":\"white\",\"automargin\":true,\"zerolinewidth\":2},\"scene\":{\"xaxis\":{\"backgroundcolor\":\"#E5ECF6\",\"gridcolor\":\"white\",\"linecolor\":\"white\",\"showbackground\":true,\"ticks\":\"\",\"zerolinecolor\":\"white\",\"gridwidth\":2},\"yaxis\":{\"backgroundcolor\":\"#E5ECF6\",\"gridcolor\":\"white\",\"linecolor\":\"white\",\"showbackground\":true,\"ticks\":\"\",\"zerolinecolor\":\"white\",\"gridwidth\":2},\"zaxis\":{\"backgroundcolor\":\"#E5ECF6\",\"gridcolor\":\"white\",\"linecolor\":\"white\",\"showbackground\":true,\"ticks\":\"\",\"zerolinecolor\":\"white\",\"gridwidth\":2}},\"shapedefaults\":{\"line\":{\"color\":\"#2a3f5f\"}},\"annotationdefaults\":{\"arrowcolor\":\"#2a3f5f\",\"arrowhead\":0,\"arrowwidth\":1},\"geo\":{\"bgcolor\":\"white\",\"landcolor\":\"#E5ECF6\",\"subunitcolor\":\"white\",\"showland\":true,\"showlakes\":true,\"lakecolor\":\"white\"},\"title\":{\"x\":0.05},\"mapbox\":{\"style\":\"light\"}}},\"xaxis\":{\"title\":{\"text\":\"Country (Survival Score)\"},\"tickangle\":-45},\"barmode\":\"stack\",\"title\":{\"text\":\"Survival Score Breakdown by Country\"},\"yaxis\":{\"title\":{\"text\":\"Z-Score Contribution\"}},\"legend\":{\"title\":{\"text\":\"Score Component\"}},\"height\":600},                        {\"responsive\": true}                    ).then(function(){\n",
              "                            \n",
              "var gd = document.getElementById('0278c6b3-b06c-432d-9154-5b3687fe87a5');\n",
              "var x = new MutationObserver(function (mutations, observer) {{\n",
              "        var display = window.getComputedStyle(gd).display;\n",
              "        if (!display || display === 'none') {{\n",
              "            console.log([gd, 'removed!']);\n",
              "            Plotly.purge(gd);\n",
              "            observer.disconnect();\n",
              "        }}\n",
              "}});\n",
              "\n",
              "// Listen for the removal of the full notebook cells\n",
              "var notebookContainer = gd.closest('#notebook-container');\n",
              "if (notebookContainer) {{\n",
              "    x.observe(notebookContainer, {childList: true});\n",
              "}}\n",
              "\n",
              "// Listen for the clearing of the current output cell\n",
              "var outputEl = gd.closest('.output');\n",
              "if (outputEl) {{\n",
              "    x.observe(outputEl, {childList: true});\n",
              "}}\n",
              "\n",
              "                        })                };                            </script>        </div>\n",
              "</body>\n",
              "</html>"
            ]
          },
          "metadata": {},
          "output_type": "display_data"
        }
      ],
      "source": [
        "import pandas as pd\n",
        "import plotly.graph_objects as go\n",
        "\n",
        "df = pd.read_csv(\"survival-scores.csv\")\n",
        "\n",
        "df.columns = df.columns.str.strip()\n",
        "\n",
        "df['Label'] = df['Native Country'] + ' (Score: ' + df['Survival Score'].round(2).astype(str) + ')'\n",
        "countries = df['Label']\n",
        "\n",
        "hovertext = df['Survival Score'].round(3)\n",
        "\n",
        "fig = go.Figure()\n",
        "\n",
        "fig.add_trace(go.Bar(\n",
        "    name='Education Contribution',\n",
        "    x=countries,\n",
        "    y=df['Education Contribution'],\n",
        "    marker_color='#4c78a8',\n",
        "    customdata=hovertext,\n",
        "    hovertemplate='Education: %{y}<br>Survival Score: %{customdata}'\n",
        "))\n",
        "\n",
        "fig.add_trace(go.Bar(\n",
        "    name='Income Contribution',\n",
        "    x=countries,\n",
        "    y=df['Income Contribution'],\n",
        "    marker_color='#f58518',\n",
        "    customdata=hovertext,\n",
        "    hovertemplate='Income: %{y}<br>Survival Score: %{customdata}'\n",
        "))\n",
        "\n",
        "fig.add_trace(go.Bar(\n",
        "    name='Age Contribution',\n",
        "    x=countries,\n",
        "    y=df['Age Contribution'],\n",
        "    marker_color='#54a24b',\n",
        "    customdata=hovertext,\n",
        "    hovertemplate='Age: %{y}<br>Survival Score: %{customdata}'\n",
        "))\n",
        "\n",
        "fig.update_layout(\n",
        "    barmode='stack',\n",
        "    title='Survival Score Breakdown by Country',\n",
        "    xaxis_title='Country (Survival Score)',\n",
        "    yaxis_title='Z-Score Contribution',\n",
        "    legend_title='Score Component',\n",
        "    xaxis_tickangle=-45,\n",
        "    height=600\n",
        ")\n",
        "\n",
        "fig.show()"
      ]
    }
  ],
  "metadata": {
    "colab": {
      "provenance": []
    },
    "kernelspec": {
      "display_name": "Python 3",
      "name": "python3"
    },
    "language_info": {
      "name": "python"
    }
  },
  "nbformat": 4,
  "nbformat_minor": 0
}
